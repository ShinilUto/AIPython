{
 "cells": [
  {
   "cell_type": "code",
   "execution_count": 1,
   "metadata": {},
   "outputs": [
    {
     "data": {
      "text/plain": [
       "array([[ 3.,  3.,  4.,  3.,  3.,  3.,  3.,  3.,  3.,  3.,  3.],\n",
       "       [ 4.,  4.,  4.,  4.,  4.,  3.,  4.,  4.,  2.,  2.,  4.],\n",
       "       [ 1.,  1.,  1.,  1.,  1.,  1.,  1.,  1.,  1.,  1.,  1.],\n",
       "       [ 1.,  1.,  1.,  1.,  1.,  1.,  1.,  1.,  2.,  1.,  1.],\n",
       "       [ 2.,  2.,  3.,  2.,  4.,  2.,  2.,  4.,  4.,  2.,  2.],\n",
       "       [ 2.,  4.,  2.,  4.,  2.,  2.,  2.,  2.,  4.,  2.,  2.],\n",
       "       [ 1.,  1.,  1.,  1.,  1.,  1.,  1.,  1.,  1.,  1.,  1.],\n",
       "       [ 4.,  4.,  4.,  4.,  4.,  4.,  4.,  4.,  4.,  4.,  4.],\n",
       "       [ 4.,  4.,  4.,  4.,  4.,  4.,  4.,  4.,  4.,  2.,  4.],\n",
       "       [ 2.,  2.,  2.,  2.,  2.,  2.,  2.,  2.,  2.,  2.,  2.],\n",
       "       [ 4.,  3.,  4.,  4.,  2.,  4.,  4.,  4.,  4.,  4.,  4.],\n",
       "       [ 3.,  3.,  3.,  2.,  3.,  3.,  3.,  3.,  3.,  3.,  3.],\n",
       "       [ 3.,  3.,  3.,  3.,  3.,  3.,  3.,  3.,  3.,  3.,  3.],\n",
       "       [ 3.,  2.,  3.,  3.,  3.,  3.,  1.,  3.,  3.,  3.,  3.],\n",
       "       [ 2.,  2.,  4.,  2.,  2.,  2.,  2.,  2.,  2.,  2.,  2.],\n",
       "       [ 2.,  2.,  2.,  1.,  1.,  2.,  2.,  2.,  2.,  2.,  2.],\n",
       "       [ 1.,  1.,  1.,  1.,  1.,  1.,  1.,  1.,  2.,  1.,  1.],\n",
       "       [ 2.,  2.,  2.,  2.,  2.,  2.,  2.,  2.,  4.,  2.,  2.],\n",
       "       [ 2.,  2.,  4.,  2.,  2.,  2.,  2.,  2.,  2.,  2.,  2.],\n",
       "       [ 2.,  1.,  2.,  4.,  4.,  2.,  3.,  2.,  1.,  3.,  2.],\n",
       "       [ 9.,  4., 10.,  9.,  6.,  8., 10.,  7.,  6.,  9., 10.],\n",
       "       [ 5.,  7.,  8.,  5.,  7.,  8.,  6.,  8.,  9., 10., 10.]])"
      ]
     },
     "execution_count": 1,
     "metadata": {},
     "output_type": "execute_result"
    }
   ],
   "source": [
    "import numpy as np\n",
    "score = np.loadtxt('python_score.csv', delimiter=',', dtype='float64')\n",
    "score"
   ]
  },
  {
   "cell_type": "code",
   "execution_count": 2,
   "metadata": {},
   "outputs": [
    {
     "data": {
      "text/plain": [
       "array([3., 4., 1., 1., 2., 2., 1., 4., 4., 2., 4., 3., 3., 3., 2., 2., 1.,\n",
       "       2., 2., 2.])"
      ]
     },
     "execution_count": 2,
     "metadata": {},
     "output_type": "execute_result"
    }
   ],
   "source": [
    "answer = score[:20, -1]\n",
    "answer"
   ]
  },
  {
   "cell_type": "code",
   "execution_count": 3,
   "metadata": {},
   "outputs": [
    {
     "data": {
      "text/plain": [
       "array([[3., 4., 1., 1., 2., 2., 1., 4., 4., 2., 4., 3., 3., 3., 2., 2.,\n",
       "        1., 2., 2., 2.],\n",
       "       [3., 4., 1., 1., 2., 4., 1., 4., 4., 2., 3., 3., 3., 2., 2., 2.,\n",
       "        1., 2., 2., 1.],\n",
       "       [4., 4., 1., 1., 3., 2., 1., 4., 4., 2., 4., 3., 3., 3., 4., 2.,\n",
       "        1., 2., 4., 2.],\n",
       "       [3., 4., 1., 1., 2., 4., 1., 4., 4., 2., 4., 2., 3., 3., 2., 1.,\n",
       "        1., 2., 2., 4.],\n",
       "       [3., 4., 1., 1., 4., 2., 1., 4., 4., 2., 2., 3., 3., 3., 2., 1.,\n",
       "        1., 2., 2., 4.],\n",
       "       [3., 3., 1., 1., 2., 2., 1., 4., 4., 2., 4., 3., 3., 3., 2., 2.,\n",
       "        1., 2., 2., 2.],\n",
       "       [3., 4., 1., 1., 2., 2., 1., 4., 4., 2., 4., 3., 3., 1., 2., 2.,\n",
       "        1., 2., 2., 3.],\n",
       "       [3., 4., 1., 1., 4., 2., 1., 4., 4., 2., 4., 3., 3., 3., 2., 2.,\n",
       "        1., 2., 2., 2.],\n",
       "       [3., 2., 1., 2., 4., 4., 1., 4., 4., 2., 4., 3., 3., 3., 2., 2.,\n",
       "        2., 4., 2., 1.],\n",
       "       [3., 2., 1., 1., 2., 2., 1., 4., 2., 2., 4., 3., 3., 3., 2., 2.,\n",
       "        1., 2., 2., 3.]])"
      ]
     },
     "execution_count": 3,
     "metadata": {},
     "output_type": "execute_result"
    }
   ],
   "source": [
    "dset = score[:20, :10].T\n",
    "dset"
   ]
  },
  {
   "cell_type": "code",
   "execution_count": 4,
   "metadata": {},
   "outputs": [
    {
     "data": {
      "text/plain": [
       "array([[ True,  True,  True,  True,  True,  True,  True,  True,  True,\n",
       "         True,  True,  True,  True,  True,  True,  True,  True,  True,\n",
       "         True,  True],\n",
       "       [ True,  True,  True,  True,  True, False,  True,  True,  True,\n",
       "         True, False,  True,  True, False,  True,  True,  True,  True,\n",
       "         True, False],\n",
       "       [False,  True,  True,  True, False,  True,  True,  True,  True,\n",
       "         True,  True,  True,  True,  True, False,  True,  True,  True,\n",
       "        False,  True],\n",
       "       [ True,  True,  True,  True,  True, False,  True,  True,  True,\n",
       "         True,  True, False,  True,  True,  True, False,  True,  True,\n",
       "         True, False],\n",
       "       [ True,  True,  True,  True, False,  True,  True,  True,  True,\n",
       "         True, False,  True,  True,  True,  True, False,  True,  True,\n",
       "         True, False],\n",
       "       [ True, False,  True,  True,  True,  True,  True,  True,  True,\n",
       "         True,  True,  True,  True,  True,  True,  True,  True,  True,\n",
       "         True,  True],\n",
       "       [ True,  True,  True,  True,  True,  True,  True,  True,  True,\n",
       "         True,  True,  True,  True, False,  True,  True,  True,  True,\n",
       "         True, False],\n",
       "       [ True,  True,  True,  True, False,  True,  True,  True,  True,\n",
       "         True,  True,  True,  True,  True,  True,  True,  True,  True,\n",
       "         True,  True],\n",
       "       [ True, False,  True, False, False, False,  True,  True,  True,\n",
       "         True,  True,  True,  True,  True,  True,  True, False, False,\n",
       "         True, False],\n",
       "       [ True, False,  True,  True,  True,  True,  True,  True, False,\n",
       "         True,  True,  True,  True,  True,  True,  True,  True,  True,\n",
       "         True, False]])"
      ]
     },
     "execution_count": 4,
     "metadata": {},
     "output_type": "execute_result"
    }
   ],
   "source": [
    "bool_dset = (dset == answer)\n",
    "bool_dset"
   ]
  },
  {
   "cell_type": "code",
   "execution_count": 5,
   "metadata": {},
   "outputs": [
    {
     "data": {
      "text/plain": [
       "array([[1, 1, 1, 1, 1, 1, 1, 1, 1, 1, 1, 1, 1, 1, 1, 1, 1, 1, 1, 1],\n",
       "       [1, 1, 1, 1, 1, 0, 1, 1, 1, 1, 0, 1, 1, 0, 1, 1, 1, 1, 1, 0],\n",
       "       [0, 1, 1, 1, 0, 1, 1, 1, 1, 1, 1, 1, 1, 1, 0, 1, 1, 1, 0, 1],\n",
       "       [1, 1, 1, 1, 1, 0, 1, 1, 1, 1, 1, 0, 1, 1, 1, 0, 1, 1, 1, 0],\n",
       "       [1, 1, 1, 1, 0, 1, 1, 1, 1, 1, 0, 1, 1, 1, 1, 0, 1, 1, 1, 0],\n",
       "       [1, 0, 1, 1, 1, 1, 1, 1, 1, 1, 1, 1, 1, 1, 1, 1, 1, 1, 1, 1],\n",
       "       [1, 1, 1, 1, 1, 1, 1, 1, 1, 1, 1, 1, 1, 0, 1, 1, 1, 1, 1, 0],\n",
       "       [1, 1, 1, 1, 0, 1, 1, 1, 1, 1, 1, 1, 1, 1, 1, 1, 1, 1, 1, 1],\n",
       "       [1, 0, 1, 0, 0, 0, 1, 1, 1, 1, 1, 1, 1, 1, 1, 1, 0, 0, 1, 0],\n",
       "       [1, 0, 1, 1, 1, 1, 1, 1, 0, 1, 1, 1, 1, 1, 1, 1, 1, 1, 1, 0]])"
      ]
     },
     "execution_count": 5,
     "metadata": {},
     "output_type": "execute_result"
    }
   ],
   "source": [
    "scoreset1 = bool_dset*1\n",
    "scoreset1"
   ]
  },
  {
   "cell_type": "code",
   "execution_count": 6,
   "metadata": {},
   "outputs": [
    {
     "data": {
      "text/plain": [
       "array([[ 9.,  5.],\n",
       "       [ 4.,  7.],\n",
       "       [10.,  8.],\n",
       "       [ 9.,  5.],\n",
       "       [ 6.,  7.],\n",
       "       [ 8.,  8.],\n",
       "       [10.,  6.],\n",
       "       [ 7.,  8.],\n",
       "       [ 6.,  9.],\n",
       "       [ 9., 10.]])"
      ]
     },
     "execution_count": 6,
     "metadata": {},
     "output_type": "execute_result"
    }
   ],
   "source": [
    "scoreset2 = score[20:,:10].T\n",
    "scoreset2"
   ]
  },
  {
   "cell_type": "code",
   "execution_count": 7,
   "metadata": {},
   "outputs": [],
   "source": [
    "distribution1=np.array([4,4,4,4,4,4,4,4,4,4,4,4,4,4,4,4,4,4,4,4]).T"
   ]
  },
  {
   "cell_type": "code",
   "execution_count": 8,
   "metadata": {},
   "outputs": [
    {
     "data": {
      "text/plain": [
       "array([80, 64, 64, 64, 64, 76, 72, 76, 52, 68])"
      ]
     },
     "execution_count": 8,
     "metadata": {},
     "output_type": "execute_result"
    }
   ],
   "source": [
    "multiple_choice = scoreset1.dot(distribution1)\n",
    "multiple_choice"
   ]
  },
  {
   "cell_type": "code",
   "execution_count": 9,
   "metadata": {},
   "outputs": [
    {
     "data": {
      "text/plain": [
       "array([14., 11., 18., 14., 13., 16., 16., 15., 15., 19.])"
      ]
     },
     "execution_count": 9,
     "metadata": {},
     "output_type": "execute_result"
    }
   ],
   "source": [
    "distribution2 = np.array([1,1])\n",
    "essay_question= scoreset2.dot(distribution2)\n",
    "essay_question"
   ]
  },
  {
   "cell_type": "code",
   "execution_count": 10,
   "metadata": {},
   "outputs": [
    {
     "data": {
      "text/plain": [
       "array([94., 75., 82., 78., 77., 92., 88., 91., 67., 87.])"
      ]
     },
     "execution_count": 10,
     "metadata": {},
     "output_type": "execute_result"
    }
   ],
   "source": [
    "total_score= multiple_choice + essay_question\n",
    "total_score"
   ]
  }
 ],
 "metadata": {
  "kernelspec": {
   "display_name": "Python 3",
   "language": "python",
   "name": "python3"
  },
  "language_info": {
   "codemirror_mode": {
    "name": "ipython",
    "version": 3
   },
   "file_extension": ".py",
   "mimetype": "text/x-python",
   "name": "python",
   "nbconvert_exporter": "python",
   "pygments_lexer": "ipython3",
   "version": "3.6.4"
  }
 },
 "nbformat": 4,
 "nbformat_minor": 2
}
